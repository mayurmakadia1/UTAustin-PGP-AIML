{
 "cells": [
  {
   "cell_type": "markdown",
   "metadata": {},
   "source": [
    "### Project - MovieLens Data Analysis - <font color=\"red\">Submitted By: Mayur Makadia</font>\n",
    "\n",
    "The GroupLens Research Project is a research group in the Department of Computer Science and Engineering at the University of Minnesota. The data is widely used for collaborative filtering and other filtering solutions. However, we will be using this data to act as a means to demonstrate our skill in using Python to “play” with data.\n",
    "\n",
    "### Datasets Information:\n",
    "\n",
    "- Data.csv: It contains information of ratings given by the users to a particular movie. Columns: user id, movie id, rating, timestamp\n",
    "\n",
    "- item.csv: File contains information related to the movies and its genre.\n",
    "\n",
    "- Columns: movie id, movie title, release date, unknown, Action, Adventure, Animation, Children’s, Comedy, Crime, Documentary, Drama, Fantasy, Film-Noir, Horror, Musical, Mystery, Romance, Sci-Fi, Thriller, War, Western\n",
    "\n",
    "- user.csv: It contains information of the users who have rated the movies. Columns: user id, age, gender, occupation, zip code\n",
    "\n",
    "### Objective:\n",
    "\n",
    "`To implement the techniques learnt as a part of the course.`\n",
    "\n",
    "### Learning Outcomes:\n",
    "- Exploratory Data Analysis\n",
    "\n",
    "- Visualization using Python\n",
    "\n",
    "- Pandas – groupby, merging \n",
    "\n",
    "\n",
    "#### Domain \n",
    "`Internet and Entertainment`\n",
    "\n",
    "**Note that the project will need you to apply the concepts of groupby and merging extensively.**"
   ]
  },
  {
   "cell_type": "markdown",
   "metadata": {},
   "source": [
    "#### 1. Import the necessary packages - 2.5 marks"
   ]
  },
  {
   "cell_type": "code",
   "execution_count": 1,
   "metadata": {},
   "outputs": [],
   "source": [
    "# Import the libraries \n",
    "import numpy as np\n",
    "import pandas as pd\n",
    "import seaborn as sns\n",
    "import matplotlib.pyplot as plt\n",
    "%matplotlib inline"
   ]
  },
  {
   "cell_type": "markdown",
   "metadata": {},
   "source": [
    "#### 2. Read the 3 datasets into dataframes - 2.5 marks"
   ]
  },
  {
   "cell_type": "code",
   "execution_count": 2,
   "metadata": {
    "scrolled": true
   },
   "outputs": [],
   "source": [
    "#read Data.csv\n",
    "dfData = pd.read_csv('Data.csv')"
   ]
  },
  {
   "cell_type": "code",
   "execution_count": 3,
   "metadata": {},
   "outputs": [],
   "source": [
    "#read item.csv\n",
    "dfItem = pd.read_csv('item.csv')"
   ]
  },
  {
   "cell_type": "code",
   "execution_count": 4,
   "metadata": {},
   "outputs": [],
   "source": [
    "#read user.csv\n",
    "dfUser = pd.read_csv('user.csv')"
   ]
  },
  {
   "cell_type": "markdown",
   "metadata": {},
   "source": [
    "#### 3. Apply info, shape, describe, and find the number of missing values in the data - 5 marks\n",
    " - Note that you will need to do it for all the three datasets seperately"
   ]
  },
  {
   "cell_type": "code",
   "execution_count": 5,
   "metadata": {},
   "outputs": [
    {
     "name": "stdout",
     "output_type": "stream",
     "text": [
      "<class 'pandas.core.frame.DataFrame'>\n",
      "RangeIndex: 100000 entries, 0 to 99999\n",
      "Data columns (total 4 columns):\n",
      " #   Column     Non-Null Count   Dtype\n",
      "---  ------     --------------   -----\n",
      " 0   user id    100000 non-null  int64\n",
      " 1   movie id   100000 non-null  int64\n",
      " 2   rating     100000 non-null  int64\n",
      " 3   timestamp  100000 non-null  int64\n",
      "dtypes: int64(4)\n",
      "memory usage: 3.1 MB\n"
     ]
    }
   ],
   "source": [
    "#dfData info\n",
    "dfData.info()"
   ]
  },
  {
   "cell_type": "code",
   "execution_count": 6,
   "metadata": {},
   "outputs": [
    {
     "data": {
      "text/plain": [
       "(100000, 4)"
      ]
     },
     "execution_count": 6,
     "metadata": {},
     "output_type": "execute_result"
    }
   ],
   "source": [
    "#dfData shape\n",
    "dfData.shape"
   ]
  },
  {
   "cell_type": "code",
   "execution_count": 7,
   "metadata": {},
   "outputs": [
    {
     "data": {
      "text/html": [
       "<div>\n",
       "<style scoped>\n",
       "    .dataframe tbody tr th:only-of-type {\n",
       "        vertical-align: middle;\n",
       "    }\n",
       "\n",
       "    .dataframe tbody tr th {\n",
       "        vertical-align: top;\n",
       "    }\n",
       "\n",
       "    .dataframe thead th {\n",
       "        text-align: right;\n",
       "    }\n",
       "</style>\n",
       "<table border=\"1\" class=\"dataframe\">\n",
       "  <thead>\n",
       "    <tr style=\"text-align: right;\">\n",
       "      <th></th>\n",
       "      <th>user id</th>\n",
       "      <th>movie id</th>\n",
       "      <th>rating</th>\n",
       "      <th>timestamp</th>\n",
       "    </tr>\n",
       "  </thead>\n",
       "  <tbody>\n",
       "    <tr>\n",
       "      <th>count</th>\n",
       "      <td>100000.00000</td>\n",
       "      <td>100000.000000</td>\n",
       "      <td>100000.000000</td>\n",
       "      <td>1.000000e+05</td>\n",
       "    </tr>\n",
       "    <tr>\n",
       "      <th>mean</th>\n",
       "      <td>462.48475</td>\n",
       "      <td>425.530130</td>\n",
       "      <td>3.529860</td>\n",
       "      <td>8.835289e+08</td>\n",
       "    </tr>\n",
       "    <tr>\n",
       "      <th>std</th>\n",
       "      <td>266.61442</td>\n",
       "      <td>330.798356</td>\n",
       "      <td>1.125674</td>\n",
       "      <td>5.343856e+06</td>\n",
       "    </tr>\n",
       "    <tr>\n",
       "      <th>min</th>\n",
       "      <td>1.00000</td>\n",
       "      <td>1.000000</td>\n",
       "      <td>1.000000</td>\n",
       "      <td>8.747247e+08</td>\n",
       "    </tr>\n",
       "    <tr>\n",
       "      <th>25%</th>\n",
       "      <td>254.00000</td>\n",
       "      <td>175.000000</td>\n",
       "      <td>3.000000</td>\n",
       "      <td>8.794487e+08</td>\n",
       "    </tr>\n",
       "    <tr>\n",
       "      <th>50%</th>\n",
       "      <td>447.00000</td>\n",
       "      <td>322.000000</td>\n",
       "      <td>4.000000</td>\n",
       "      <td>8.828269e+08</td>\n",
       "    </tr>\n",
       "    <tr>\n",
       "      <th>75%</th>\n",
       "      <td>682.00000</td>\n",
       "      <td>631.000000</td>\n",
       "      <td>4.000000</td>\n",
       "      <td>8.882600e+08</td>\n",
       "    </tr>\n",
       "    <tr>\n",
       "      <th>max</th>\n",
       "      <td>943.00000</td>\n",
       "      <td>1682.000000</td>\n",
       "      <td>5.000000</td>\n",
       "      <td>8.932866e+08</td>\n",
       "    </tr>\n",
       "  </tbody>\n",
       "</table>\n",
       "</div>"
      ],
      "text/plain": [
       "            user id       movie id         rating     timestamp\n",
       "count  100000.00000  100000.000000  100000.000000  1.000000e+05\n",
       "mean      462.48475     425.530130       3.529860  8.835289e+08\n",
       "std       266.61442     330.798356       1.125674  5.343856e+06\n",
       "min         1.00000       1.000000       1.000000  8.747247e+08\n",
       "25%       254.00000     175.000000       3.000000  8.794487e+08\n",
       "50%       447.00000     322.000000       4.000000  8.828269e+08\n",
       "75%       682.00000     631.000000       4.000000  8.882600e+08\n",
       "max       943.00000    1682.000000       5.000000  8.932866e+08"
      ]
     },
     "execution_count": 7,
     "metadata": {},
     "output_type": "execute_result"
    }
   ],
   "source": [
    "#dfData describe\n",
    "dfData.describe()"
   ]
  },
  {
   "cell_type": "code",
   "execution_count": 15,
   "metadata": {},
   "outputs": [
    {
     "name": "stdout",
     "output_type": "stream",
     "text": [
      "Number of missing values in Data.csv (loaded in dataframe dfData): 0\n"
     ]
    }
   ],
   "source": [
    "#dfData number of missing values\n",
    "print(\"Number of missing values in Data.csv (loaded in dataframe dfData): \" + str(dfData.isnull().sum().sum()))"
   ]
  },
  {
   "cell_type": "code",
   "execution_count": 16,
   "metadata": {},
   "outputs": [
    {
     "name": "stdout",
     "output_type": "stream",
     "text": [
      "<class 'pandas.core.frame.DataFrame'>\n",
      "RangeIndex: 1681 entries, 0 to 1680\n",
      "Data columns (total 22 columns):\n",
      " #   Column        Non-Null Count  Dtype \n",
      "---  ------        --------------  ----- \n",
      " 0   movie id      1681 non-null   int64 \n",
      " 1   movie title   1681 non-null   object\n",
      " 2   release date  1681 non-null   object\n",
      " 3   unknown       1681 non-null   int64 \n",
      " 4   Action        1681 non-null   int64 \n",
      " 5   Adventure     1681 non-null   int64 \n",
      " 6   Animation     1681 non-null   int64 \n",
      " 7   Childrens     1681 non-null   int64 \n",
      " 8   Comedy        1681 non-null   int64 \n",
      " 9   Crime         1681 non-null   int64 \n",
      " 10  Documentary   1681 non-null   int64 \n",
      " 11  Drama         1681 non-null   int64 \n",
      " 12  Fantasy       1681 non-null   int64 \n",
      " 13  Film-Noir     1681 non-null   int64 \n",
      " 14  Horror        1681 non-null   int64 \n",
      " 15  Musical       1681 non-null   int64 \n",
      " 16  Mystery       1681 non-null   int64 \n",
      " 17  Romance       1681 non-null   int64 \n",
      " 18  Sci-Fi        1681 non-null   int64 \n",
      " 19  Thriller      1681 non-null   int64 \n",
      " 20  War           1681 non-null   int64 \n",
      " 21  Western       1681 non-null   int64 \n",
      "dtypes: int64(20), object(2)\n",
      "memory usage: 289.0+ KB\n"
     ]
    }
   ],
   "source": [
    "#dfItem info\n",
    "dfItem.info()"
   ]
  },
  {
   "cell_type": "code",
   "execution_count": 17,
   "metadata": {},
   "outputs": [
    {
     "data": {
      "text/plain": [
       "(1681, 22)"
      ]
     },
     "execution_count": 17,
     "metadata": {},
     "output_type": "execute_result"
    }
   ],
   "source": [
    "#dfItem shape\n",
    "dfItem.shape"
   ]
  },
  {
   "cell_type": "code",
   "execution_count": 18,
   "metadata": {},
   "outputs": [
    {
     "data": {
      "text/html": [
       "<div>\n",
       "<style scoped>\n",
       "    .dataframe tbody tr th:only-of-type {\n",
       "        vertical-align: middle;\n",
       "    }\n",
       "\n",
       "    .dataframe tbody tr th {\n",
       "        vertical-align: top;\n",
       "    }\n",
       "\n",
       "    .dataframe thead th {\n",
       "        text-align: right;\n",
       "    }\n",
       "</style>\n",
       "<table border=\"1\" class=\"dataframe\">\n",
       "  <thead>\n",
       "    <tr style=\"text-align: right;\">\n",
       "      <th></th>\n",
       "      <th>movie id</th>\n",
       "      <th>unknown</th>\n",
       "      <th>Action</th>\n",
       "      <th>Adventure</th>\n",
       "      <th>Animation</th>\n",
       "      <th>Childrens</th>\n",
       "      <th>Comedy</th>\n",
       "      <th>Crime</th>\n",
       "      <th>Documentary</th>\n",
       "      <th>Drama</th>\n",
       "      <th>Fantasy</th>\n",
       "      <th>Film-Noir</th>\n",
       "      <th>Horror</th>\n",
       "      <th>Musical</th>\n",
       "      <th>Mystery</th>\n",
       "      <th>Romance</th>\n",
       "      <th>Sci-Fi</th>\n",
       "      <th>Thriller</th>\n",
       "      <th>War</th>\n",
       "      <th>Western</th>\n",
       "    </tr>\n",
       "  </thead>\n",
       "  <tbody>\n",
       "    <tr>\n",
       "      <th>count</th>\n",
       "      <td>1681.000000</td>\n",
       "      <td>1681.000000</td>\n",
       "      <td>1681.000000</td>\n",
       "      <td>1681.000000</td>\n",
       "      <td>1681.000000</td>\n",
       "      <td>1681.000000</td>\n",
       "      <td>1681.000000</td>\n",
       "      <td>1681.000000</td>\n",
       "      <td>1681.000000</td>\n",
       "      <td>1681.000000</td>\n",
       "      <td>1681.000000</td>\n",
       "      <td>1681.000000</td>\n",
       "      <td>1681.000000</td>\n",
       "      <td>1681.000000</td>\n",
       "      <td>1681.000000</td>\n",
       "      <td>1681.000000</td>\n",
       "      <td>1681.000000</td>\n",
       "      <td>1681.000000</td>\n",
       "      <td>1681.000000</td>\n",
       "      <td>1681.000000</td>\n",
       "    </tr>\n",
       "    <tr>\n",
       "      <th>mean</th>\n",
       "      <td>841.841761</td>\n",
       "      <td>0.000595</td>\n",
       "      <td>0.149316</td>\n",
       "      <td>0.080309</td>\n",
       "      <td>0.024985</td>\n",
       "      <td>0.072576</td>\n",
       "      <td>0.300416</td>\n",
       "      <td>0.064842</td>\n",
       "      <td>0.029744</td>\n",
       "      <td>0.431291</td>\n",
       "      <td>0.013087</td>\n",
       "      <td>0.014277</td>\n",
       "      <td>0.054729</td>\n",
       "      <td>0.033314</td>\n",
       "      <td>0.036288</td>\n",
       "      <td>0.146936</td>\n",
       "      <td>0.060083</td>\n",
       "      <td>0.149316</td>\n",
       "      <td>0.042237</td>\n",
       "      <td>0.016062</td>\n",
       "    </tr>\n",
       "    <tr>\n",
       "      <th>std</th>\n",
       "      <td>485.638077</td>\n",
       "      <td>0.024390</td>\n",
       "      <td>0.356506</td>\n",
       "      <td>0.271852</td>\n",
       "      <td>0.156126</td>\n",
       "      <td>0.259516</td>\n",
       "      <td>0.458576</td>\n",
       "      <td>0.246321</td>\n",
       "      <td>0.169931</td>\n",
       "      <td>0.495404</td>\n",
       "      <td>0.113683</td>\n",
       "      <td>0.118667</td>\n",
       "      <td>0.227519</td>\n",
       "      <td>0.179507</td>\n",
       "      <td>0.187061</td>\n",
       "      <td>0.354148</td>\n",
       "      <td>0.237712</td>\n",
       "      <td>0.356506</td>\n",
       "      <td>0.201189</td>\n",
       "      <td>0.125751</td>\n",
       "    </tr>\n",
       "    <tr>\n",
       "      <th>min</th>\n",
       "      <td>1.000000</td>\n",
       "      <td>0.000000</td>\n",
       "      <td>0.000000</td>\n",
       "      <td>0.000000</td>\n",
       "      <td>0.000000</td>\n",
       "      <td>0.000000</td>\n",
       "      <td>0.000000</td>\n",
       "      <td>0.000000</td>\n",
       "      <td>0.000000</td>\n",
       "      <td>0.000000</td>\n",
       "      <td>0.000000</td>\n",
       "      <td>0.000000</td>\n",
       "      <td>0.000000</td>\n",
       "      <td>0.000000</td>\n",
       "      <td>0.000000</td>\n",
       "      <td>0.000000</td>\n",
       "      <td>0.000000</td>\n",
       "      <td>0.000000</td>\n",
       "      <td>0.000000</td>\n",
       "      <td>0.000000</td>\n",
       "    </tr>\n",
       "    <tr>\n",
       "      <th>25%</th>\n",
       "      <td>422.000000</td>\n",
       "      <td>0.000000</td>\n",
       "      <td>0.000000</td>\n",
       "      <td>0.000000</td>\n",
       "      <td>0.000000</td>\n",
       "      <td>0.000000</td>\n",
       "      <td>0.000000</td>\n",
       "      <td>0.000000</td>\n",
       "      <td>0.000000</td>\n",
       "      <td>0.000000</td>\n",
       "      <td>0.000000</td>\n",
       "      <td>0.000000</td>\n",
       "      <td>0.000000</td>\n",
       "      <td>0.000000</td>\n",
       "      <td>0.000000</td>\n",
       "      <td>0.000000</td>\n",
       "      <td>0.000000</td>\n",
       "      <td>0.000000</td>\n",
       "      <td>0.000000</td>\n",
       "      <td>0.000000</td>\n",
       "    </tr>\n",
       "    <tr>\n",
       "      <th>50%</th>\n",
       "      <td>842.000000</td>\n",
       "      <td>0.000000</td>\n",
       "      <td>0.000000</td>\n",
       "      <td>0.000000</td>\n",
       "      <td>0.000000</td>\n",
       "      <td>0.000000</td>\n",
       "      <td>0.000000</td>\n",
       "      <td>0.000000</td>\n",
       "      <td>0.000000</td>\n",
       "      <td>0.000000</td>\n",
       "      <td>0.000000</td>\n",
       "      <td>0.000000</td>\n",
       "      <td>0.000000</td>\n",
       "      <td>0.000000</td>\n",
       "      <td>0.000000</td>\n",
       "      <td>0.000000</td>\n",
       "      <td>0.000000</td>\n",
       "      <td>0.000000</td>\n",
       "      <td>0.000000</td>\n",
       "      <td>0.000000</td>\n",
       "    </tr>\n",
       "    <tr>\n",
       "      <th>75%</th>\n",
       "      <td>1262.000000</td>\n",
       "      <td>0.000000</td>\n",
       "      <td>0.000000</td>\n",
       "      <td>0.000000</td>\n",
       "      <td>0.000000</td>\n",
       "      <td>0.000000</td>\n",
       "      <td>1.000000</td>\n",
       "      <td>0.000000</td>\n",
       "      <td>0.000000</td>\n",
       "      <td>1.000000</td>\n",
       "      <td>0.000000</td>\n",
       "      <td>0.000000</td>\n",
       "      <td>0.000000</td>\n",
       "      <td>0.000000</td>\n",
       "      <td>0.000000</td>\n",
       "      <td>0.000000</td>\n",
       "      <td>0.000000</td>\n",
       "      <td>0.000000</td>\n",
       "      <td>0.000000</td>\n",
       "      <td>0.000000</td>\n",
       "    </tr>\n",
       "    <tr>\n",
       "      <th>max</th>\n",
       "      <td>1682.000000</td>\n",
       "      <td>1.000000</td>\n",
       "      <td>1.000000</td>\n",
       "      <td>1.000000</td>\n",
       "      <td>1.000000</td>\n",
       "      <td>1.000000</td>\n",
       "      <td>1.000000</td>\n",
       "      <td>1.000000</td>\n",
       "      <td>1.000000</td>\n",
       "      <td>1.000000</td>\n",
       "      <td>1.000000</td>\n",
       "      <td>1.000000</td>\n",
       "      <td>1.000000</td>\n",
       "      <td>1.000000</td>\n",
       "      <td>1.000000</td>\n",
       "      <td>1.000000</td>\n",
       "      <td>1.000000</td>\n",
       "      <td>1.000000</td>\n",
       "      <td>1.000000</td>\n",
       "      <td>1.000000</td>\n",
       "    </tr>\n",
       "  </tbody>\n",
       "</table>\n",
       "</div>"
      ],
      "text/plain": [
       "          movie id      unknown       Action    Adventure    Animation  \\\n",
       "count  1681.000000  1681.000000  1681.000000  1681.000000  1681.000000   \n",
       "mean    841.841761     0.000595     0.149316     0.080309     0.024985   \n",
       "std     485.638077     0.024390     0.356506     0.271852     0.156126   \n",
       "min       1.000000     0.000000     0.000000     0.000000     0.000000   \n",
       "25%     422.000000     0.000000     0.000000     0.000000     0.000000   \n",
       "50%     842.000000     0.000000     0.000000     0.000000     0.000000   \n",
       "75%    1262.000000     0.000000     0.000000     0.000000     0.000000   \n",
       "max    1682.000000     1.000000     1.000000     1.000000     1.000000   \n",
       "\n",
       "         Childrens       Comedy        Crime  Documentary        Drama  \\\n",
       "count  1681.000000  1681.000000  1681.000000  1681.000000  1681.000000   \n",
       "mean      0.072576     0.300416     0.064842     0.029744     0.431291   \n",
       "std       0.259516     0.458576     0.246321     0.169931     0.495404   \n",
       "min       0.000000     0.000000     0.000000     0.000000     0.000000   \n",
       "25%       0.000000     0.000000     0.000000     0.000000     0.000000   \n",
       "50%       0.000000     0.000000     0.000000     0.000000     0.000000   \n",
       "75%       0.000000     1.000000     0.000000     0.000000     1.000000   \n",
       "max       1.000000     1.000000     1.000000     1.000000     1.000000   \n",
       "\n",
       "           Fantasy    Film-Noir       Horror      Musical      Mystery  \\\n",
       "count  1681.000000  1681.000000  1681.000000  1681.000000  1681.000000   \n",
       "mean      0.013087     0.014277     0.054729     0.033314     0.036288   \n",
       "std       0.113683     0.118667     0.227519     0.179507     0.187061   \n",
       "min       0.000000     0.000000     0.000000     0.000000     0.000000   \n",
       "25%       0.000000     0.000000     0.000000     0.000000     0.000000   \n",
       "50%       0.000000     0.000000     0.000000     0.000000     0.000000   \n",
       "75%       0.000000     0.000000     0.000000     0.000000     0.000000   \n",
       "max       1.000000     1.000000     1.000000     1.000000     1.000000   \n",
       "\n",
       "           Romance       Sci-Fi     Thriller          War      Western  \n",
       "count  1681.000000  1681.000000  1681.000000  1681.000000  1681.000000  \n",
       "mean      0.146936     0.060083     0.149316     0.042237     0.016062  \n",
       "std       0.354148     0.237712     0.356506     0.201189     0.125751  \n",
       "min       0.000000     0.000000     0.000000     0.000000     0.000000  \n",
       "25%       0.000000     0.000000     0.000000     0.000000     0.000000  \n",
       "50%       0.000000     0.000000     0.000000     0.000000     0.000000  \n",
       "75%       0.000000     0.000000     0.000000     0.000000     0.000000  \n",
       "max       1.000000     1.000000     1.000000     1.000000     1.000000  "
      ]
     },
     "execution_count": 18,
     "metadata": {},
     "output_type": "execute_result"
    }
   ],
   "source": [
    "#dfItem describe\n",
    "dfItem.describe()"
   ]
  },
  {
   "cell_type": "code",
   "execution_count": 20,
   "metadata": {},
   "outputs": [
    {
     "name": "stdout",
     "output_type": "stream",
     "text": [
      "Number of missing values in item.csv (loaded in dataframe dfItem): 0\n"
     ]
    }
   ],
   "source": [
    "#dfItem number of missing values\n",
    "print(\"Number of missing values in item.csv (loaded in dataframe dfItem): \" + str(dfItem.isnull().sum().sum()))"
   ]
  },
  {
   "cell_type": "code",
   "execution_count": 21,
   "metadata": {},
   "outputs": [
    {
     "name": "stdout",
     "output_type": "stream",
     "text": [
      "<class 'pandas.core.frame.DataFrame'>\n",
      "RangeIndex: 943 entries, 0 to 942\n",
      "Data columns (total 5 columns):\n",
      " #   Column      Non-Null Count  Dtype \n",
      "---  ------      --------------  ----- \n",
      " 0   user id     943 non-null    int64 \n",
      " 1   age         943 non-null    int64 \n",
      " 2   gender      943 non-null    object\n",
      " 3   occupation  943 non-null    object\n",
      " 4   zip code    943 non-null    object\n",
      "dtypes: int64(2), object(3)\n",
      "memory usage: 37.0+ KB\n"
     ]
    }
   ],
   "source": [
    "#dfUser info\n",
    "dfUser.info()"
   ]
  },
  {
   "cell_type": "code",
   "execution_count": 22,
   "metadata": {},
   "outputs": [
    {
     "data": {
      "text/plain": [
       "(943, 5)"
      ]
     },
     "execution_count": 22,
     "metadata": {},
     "output_type": "execute_result"
    }
   ],
   "source": [
    "#dfUser shape\n",
    "dfUser.shape"
   ]
  },
  {
   "cell_type": "code",
   "execution_count": 23,
   "metadata": {},
   "outputs": [
    {
     "data": {
      "text/html": [
       "<div>\n",
       "<style scoped>\n",
       "    .dataframe tbody tr th:only-of-type {\n",
       "        vertical-align: middle;\n",
       "    }\n",
       "\n",
       "    .dataframe tbody tr th {\n",
       "        vertical-align: top;\n",
       "    }\n",
       "\n",
       "    .dataframe thead th {\n",
       "        text-align: right;\n",
       "    }\n",
       "</style>\n",
       "<table border=\"1\" class=\"dataframe\">\n",
       "  <thead>\n",
       "    <tr style=\"text-align: right;\">\n",
       "      <th></th>\n",
       "      <th>user id</th>\n",
       "      <th>age</th>\n",
       "    </tr>\n",
       "  </thead>\n",
       "  <tbody>\n",
       "    <tr>\n",
       "      <th>count</th>\n",
       "      <td>943.000000</td>\n",
       "      <td>943.000000</td>\n",
       "    </tr>\n",
       "    <tr>\n",
       "      <th>mean</th>\n",
       "      <td>472.000000</td>\n",
       "      <td>34.051962</td>\n",
       "    </tr>\n",
       "    <tr>\n",
       "      <th>std</th>\n",
       "      <td>272.364951</td>\n",
       "      <td>12.192740</td>\n",
       "    </tr>\n",
       "    <tr>\n",
       "      <th>min</th>\n",
       "      <td>1.000000</td>\n",
       "      <td>7.000000</td>\n",
       "    </tr>\n",
       "    <tr>\n",
       "      <th>25%</th>\n",
       "      <td>236.500000</td>\n",
       "      <td>25.000000</td>\n",
       "    </tr>\n",
       "    <tr>\n",
       "      <th>50%</th>\n",
       "      <td>472.000000</td>\n",
       "      <td>31.000000</td>\n",
       "    </tr>\n",
       "    <tr>\n",
       "      <th>75%</th>\n",
       "      <td>707.500000</td>\n",
       "      <td>43.000000</td>\n",
       "    </tr>\n",
       "    <tr>\n",
       "      <th>max</th>\n",
       "      <td>943.000000</td>\n",
       "      <td>73.000000</td>\n",
       "    </tr>\n",
       "  </tbody>\n",
       "</table>\n",
       "</div>"
      ],
      "text/plain": [
       "          user id         age\n",
       "count  943.000000  943.000000\n",
       "mean   472.000000   34.051962\n",
       "std    272.364951   12.192740\n",
       "min      1.000000    7.000000\n",
       "25%    236.500000   25.000000\n",
       "50%    472.000000   31.000000\n",
       "75%    707.500000   43.000000\n",
       "max    943.000000   73.000000"
      ]
     },
     "execution_count": 23,
     "metadata": {},
     "output_type": "execute_result"
    }
   ],
   "source": [
    "#dfUser describe\n",
    "dfUser.describe()"
   ]
  },
  {
   "cell_type": "code",
   "execution_count": 24,
   "metadata": {},
   "outputs": [
    {
     "name": "stdout",
     "output_type": "stream",
     "text": [
      "Number of missing values in user.csv (loaded in dataframe dfUser): 0\n"
     ]
    }
   ],
   "source": [
    "#dfUser number of missing values\n",
    "print(\"Number of missing values in user.csv (loaded in dataframe dfUser): \" + str(dfUser.isnull().sum().sum()))"
   ]
  },
  {
   "cell_type": "markdown",
   "metadata": {},
   "source": [
    "#### 4. Find the number of movies per genre using the item data - 2.5 marks"
   ]
  },
  {
   "cell_type": "code",
   "execution_count": 25,
   "metadata": {
    "scrolled": true
   },
   "outputs": [
    {
     "name": "stdout",
     "output_type": "stream",
     "text": [
      "Movies per genre:\n",
      "unknown          1\n",
      "Action         251\n",
      "Adventure      135\n",
      "Animation       42\n",
      "Childrens      122\n",
      "Comedy         505\n",
      "Crime          109\n",
      "Documentary     50\n",
      "Drama          725\n",
      "Fantasy         22\n",
      "Film-Noir       24\n",
      "Horror          92\n",
      "Musical         56\n",
      "Mystery         61\n",
      "Romance        247\n",
      "Sci-Fi         101\n",
      "Thriller       251\n",
      "War             71\n",
      "Western         27\n",
      "dtype: int64\n"
     ]
    }
   ],
   "source": [
    "# use sum on the default axis\n",
    "#create the total for numeric only items\n",
    "dfMoviesPerGenre = dfItem.sum(numeric_only = True, skipna = True)\n",
    "#drop the unnecessary columns (e.g. movie id) for clean data\n",
    "dfMoviesPerGenre.drop('movie id', inplace = True) \n",
    "print(\"Movies per genre:\")\n",
    "print(dfMoviesPerGenre)"
   ]
  },
  {
   "cell_type": "markdown",
   "metadata": {},
   "source": [
    "#### 5. Find the movies that have more than one genre - 5 marks"
   ]
  },
  {
   "cell_type": "code",
   "execution_count": 26,
   "metadata": {},
   "outputs": [
    {
     "name": "stdout",
     "output_type": "stream",
     "text": [
      "Number of movies that have more than one genre: 849\n",
      "0               Toy Story \n",
      "1               GoldenEye \n",
      "3              Get Shorty \n",
      "4                 Copycat \n",
      "6          Twelve Monkeys \n",
      "               ...        \n",
      "1667    MURDER and murder \n",
      "1668              Tainted \n",
      "1671               Mirage \n",
      "1677            B. Monkey \n",
      "1678        Sliding Doors \n",
      "Name: movie title, Length: 849, dtype: object\n"
     ]
    }
   ],
   "source": [
    "#hint: use sum on the axis = 1\n",
    "#create genre total and add a column for easy usage\n",
    "#including or removing unknown does not make a difference as question is finding more than one genre\n",
    "#since when the genre is unknown, none of the other genres will be marked\n",
    "genre_total = dfItem[[\"unknown\",\"Action\",\"Adventure\",\"Animation\",\"Childrens\",\"Comedy\",\"Crime\",\"Documentary\",\"Drama\",\"Fantasy\",\"Film-Noir\",\"Horror\",\"Musical\",\"Mystery\",\"Romance\",\"Sci-Fi\",\"Thriller\",\"War\",\"Western\"]].sum(axis=1,skipna = True)\n",
    "dfItem['genre total'] = genre_total\n",
    "#movies that have more than one genre using genre total column\n",
    "dfMoviesMoreThanOneGenre = dfItem['movie title'][dfItem['genre total'] > 1]\n",
    "print(\"Number of movies that have more than one genre: \" + str(dfMoviesMoreThanOneGenre.shape[0]))\n",
    "print(dfMoviesMoreThanOneGenre.head(1000))"
   ]
  },
  {
   "cell_type": "markdown",
   "metadata": {},
   "source": [
    "#### 6. Drop the movie where the genre is unknown - 2.5 marks"
   ]
  },
  {
   "cell_type": "code",
   "execution_count": 27,
   "metadata": {},
   "outputs": [],
   "source": [
    "#drop the movie where genre is unknown\n",
    "dfItem.drop(dfItem[dfItem['unknown'] > 0].index, inplace = True) \n",
    "dfItem = dfItem.reset_index(drop=True)"
   ]
  },
  {
   "cell_type": "markdown",
   "metadata": {},
   "source": [
    "### 7. Univariate plots of columns: 'rating', 'Age', 'release year', 'Gender' and 'Occupation' - 10 marks"
   ]
  },
  {
   "cell_type": "code",
   "execution_count": 28,
   "metadata": {},
   "outputs": [],
   "source": [
    "# HINT: use distplot for age and countplot for gender,ratings,occupation, release year.\n",
    "# HINT: Please refer to the below snippet to understand how to get to release year from release date. You can use str.split()\n",
    "# as depicted below."
   ]
  },
  {
   "cell_type": "code",
   "execution_count": 29,
   "metadata": {},
   "outputs": [],
   "source": [
    "#adding release year to dataframe dfItem to be used in plots\n",
    "split_year = dfItem[\"release date\"].str.split(\"-\")\n",
    "releaseyear=[]\n",
    "for y in range(0,len(split_year)):\n",
    "    releaseyear.append(split_year[y][2])\n",
    "\n",
    "#print(releaseyear)\n",
    "\n",
    "dfItem['release year'] = releaseyear"
   ]
  },
  {
   "cell_type": "code",
   "execution_count": 30,
   "metadata": {},
   "outputs": [
    {
     "data": {
      "text/plain": [
       "<matplotlib.axes._subplots.AxesSubplot at 0x21ee7963cc8>"
      ]
     },
     "execution_count": 30,
     "metadata": {},
     "output_type": "execute_result"
    },
    {
     "data": {
      "image/png": "[encoded data removed]",
      "text/plain": [
       "<Figure size 720x720 with 1 Axes>"
      ]
     },
     "metadata": {
      "needs_background": "light"
     },
     "output_type": "display_data"
    }
   ],
   "source": [
    "#your answers here\n",
    "#distplot for age\n",
    "plt.figure(figsize=(10,10))\n",
    "sns.distplot(dfUser['age'])"
   ]
  },
  {
   "cell_type": "code",
   "execution_count": 31,
   "metadata": {},
   "outputs": [
    {
     "data": {
      "image/png": "[encoded data removed]",
      "text/plain": [
       "<Figure size 720x720 with 1 Axes>"
      ]
     },
     "metadata": {
      "needs_background": "light"
     },
     "output_type": "display_data"
    }
   ],
   "source": [
    "#countplot for gender\n",
    "plt.figure(figsize=(10,10))\n",
    "chart = sns.countplot(x=\"gender\", data=dfUser)"
   ]
  },
  {
   "cell_type": "code",
   "execution_count": 32,
   "metadata": {},
   "outputs": [
    {
     "data": {
      "text/plain": [
       "[Text(0, 0, 'technician'),\n",
       " Text(0, 0, 'other'),\n",
       " Text(0, 0, 'writer'),\n",
       " Text(0, 0, 'executive'),\n",
       " Text(0, 0, 'administrator'),\n",
       " Text(0, 0, 'student'),\n",
       " Text(0, 0, 'lawyer'),\n",
       " Text(0, 0, 'educator'),\n",
       " Text(0, 0, 'scientist'),\n",
       " Text(0, 0, 'entertainment'),\n",
       " Text(0, 0, 'programmer'),\n",
       " Text(0, 0, 'librarian'),\n",
       " Text(0, 0, 'homemaker'),\n",
       " Text(0, 0, 'artist'),\n",
       " Text(0, 0, 'engineer'),\n",
       " Text(0, 0, 'marketing'),\n",
       " Text(0, 0, 'none'),\n",
       " Text(0, 0, 'healthcare'),\n",
       " Text(0, 0, 'retired'),\n",
       " Text(0, 0, 'salesman'),\n",
       " Text(0, 0, 'doctor')]"
      ]
     },
     "execution_count": 32,
     "metadata": {},
     "output_type": "execute_result"
    },
    {
     "data": {
      "image/png": "[encoded data removed]",
      "text/plain": [
       "<Figure size 1440x720 with 1 Axes>"
      ]
     },
     "metadata": {
      "needs_background": "light"
     },
     "output_type": "display_data"
    }
   ],
   "source": [
    "#countplot for occupation\n",
    "plt.figure(figsize=(20,10))\n",
    "chart = sns.countplot(x=\"occupation\", data=dfUser)\n",
    "chart.set_xticklabels(chart.get_xticklabels(), rotation=45, horizontalalignment='right')"
   ]
  },
  {
   "cell_type": "code",
   "execution_count": 33,
   "metadata": {},
   "outputs": [
    {
     "data": {
      "image/png": "[encoded data removed]",
      "text/plain": [
       "<Figure size 720x720 with 1 Axes>"
      ]
     },
     "metadata": {
      "needs_background": "light"
     },
     "output_type": "display_data"
    }
   ],
   "source": [
    "#countplot for rating\n",
    "plt.figure(figsize=(10,10))\n",
    "chart = sns.countplot(x=\"rating\", data=dfData)"
   ]
  },
  {
   "cell_type": "code",
   "execution_count": 34,
   "metadata": {},
   "outputs": [
    {
     "data": {
      "text/plain": [
       "[Text(0, 0, '1922'),\n",
       " Text(0, 0, '1926'),\n",
       " Text(0, 0, '1930'),\n",
       " Text(0, 0, '1931'),\n",
       " Text(0, 0, '1932'),\n",
       " Text(0, 0, '1933'),\n",
       " Text(0, 0, '1934'),\n",
       " Text(0, 0, '1935'),\n",
       " Text(0, 0, '1936'),\n",
       " Text(0, 0, '1937'),\n",
       " Text(0, 0, '1938'),\n",
       " Text(0, 0, '1939'),\n",
       " Text(0, 0, '1940'),\n",
       " Text(0, 0, '1941'),\n",
       " Text(0, 0, '1942'),\n",
       " Text(0, 0, '1943'),\n",
       " Text(0, 0, '1944'),\n",
       " Text(0, 0, '1945'),\n",
       " Text(0, 0, '1946'),\n",
       " Text(0, 0, '1947'),\n",
       " Text(0, 0, '1948'),\n",
       " Text(0, 0, '1949'),\n",
       " Text(0, 0, '1950'),\n",
       " Text(0, 0, '1951'),\n",
       " Text(0, 0, '1952'),\n",
       " Text(0, 0, '1953'),\n",
       " Text(0, 0, '1954'),\n",
       " Text(0, 0, '1955'),\n",
       " Text(0, 0, '1956'),\n",
       " Text(0, 0, '1957'),\n",
       " Text(0, 0, '1958'),\n",
       " Text(0, 0, '1959'),\n",
       " Text(0, 0, '1960'),\n",
       " Text(0, 0, '1961'),\n",
       " Text(0, 0, '1962'),\n",
       " Text(0, 0, '1963'),\n",
       " Text(0, 0, '1964'),\n",
       " Text(0, 0, '1965'),\n",
       " Text(0, 0, '1966'),\n",
       " Text(0, 0, '1967'),\n",
       " Text(0, 0, '1968'),\n",
       " Text(0, 0, '1969'),\n",
       " Text(0, 0, '1970'),\n",
       " Text(0, 0, '1971'),\n",
       " Text(0, 0, '1972'),\n",
       " Text(0, 0, '1973'),\n",
       " Text(0, 0, '1974'),\n",
       " Text(0, 0, '1975'),\n",
       " Text(0, 0, '1976'),\n",
       " Text(0, 0, '1977'),\n",
       " Text(0, 0, '1978'),\n",
       " Text(0, 0, '1979'),\n",
       " Text(0, 0, '1980'),\n",
       " Text(0, 0, '1981'),\n",
       " Text(0, 0, '1982'),\n",
       " Text(0, 0, '1983'),\n",
       " Text(0, 0, '1984'),\n",
       " Text(0, 0, '1985'),\n",
       " Text(0, 0, '1986'),\n",
       " Text(0, 0, '1987'),\n",
       " Text(0, 0, '1988'),\n",
       " Text(0, 0, '1989'),\n",
       " Text(0, 0, '1990'),\n",
       " Text(0, 0, '1991'),\n",
       " Text(0, 0, '1992'),\n",
       " Text(0, 0, '1993'),\n",
       " Text(0, 0, '1994'),\n",
       " Text(0, 0, '1995'),\n",
       " Text(0, 0, '1996'),\n",
       " Text(0, 0, '1997'),\n",
       " Text(0, 0, '1998')]"
      ]
     },
     "execution_count": 34,
     "metadata": {},
     "output_type": "execute_result"
    },
    {
     "data": {
      "image/png": "[encoded data removed]",
      "text/plain": [
       "<Figure size 1440x720 with 1 Axes>"
      ]
     },
     "metadata": {
      "needs_background": "light"
     },
     "output_type": "display_data"
    }
   ],
   "source": [
    "#countplot for release year\n",
    "plt.figure(figsize=(20,10))\n",
    "chart = sns.countplot(x=\"release year\", data=dfItem)\n",
    "chart.set_xticklabels(chart.get_xticklabels(), rotation=45, horizontalalignment='right')"
   ]
  },
  {
   "cell_type": "markdown",
   "metadata": {},
   "source": [
    "### 8. Visualize how popularity of genres has changed over the years - 10 marks\n",
    "\n",
    "Note that you need to use the number of releases in a year as a parameter of popularity of a genre"
   ]
  },
  {
   "cell_type": "markdown",
   "metadata": {},
   "source": [
    "Hint \n",
    "\n",
    "1: you need to reach to a data frame where the release year is the index and the genre is the column names (one cell shows the number of release in a year in one genre) or vice versa.\n",
    "Once that is achieved, you can either use multiple bivariate plots or can use the heatmap to visualise all the changes over the years in one go. \n",
    "\n",
    "Hint 2: Use groupby on the relevant column and use sum() on the same to find out the nuumber of releases in a year/genre.  "
   ]
  },
  {
   "cell_type": "code",
   "execution_count": 35,
   "metadata": {},
   "outputs": [],
   "source": [
    "#Your answer here\n",
    "#copy required results in dfPopularity - dfItem.groupby(['release year'])['Number'].sum()\n",
    "dfPopularity = dfItem.groupby(['release year']).sum()\n",
    "#remove the movie id column\n",
    "dfPopularity.drop(columns=['movie id'], axis=1, inplace=True)\n",
    "#remove the genre total column\n",
    "dfPopularity.drop(columns=['genre total'], axis=1, inplace=True)\n",
    "#check to ensure columns have been dropped\n",
    "#dfPopularity.head()"
   ]
  },
  {
   "cell_type": "code",
   "execution_count": 36,
   "metadata": {},
   "outputs": [
    {
     "data": {
      "image/png": "[encoded data removed]",
      "text/plain": [
       "<Figure size 1080x1440 with 2 Axes>"
      ]
     },
     "metadata": {
      "needs_background": "light"
     },
     "output_type": "display_data"
    }
   ],
   "source": [
    "#heatmap to visualise all the changes over the years in one go\n",
    "plt.figure(figsize=(15,20))\n",
    "ax = sns.heatmap(dfPopularity,cmap=\"Blues\")"
   ]
  },
  {
   "cell_type": "markdown",
   "metadata": {},
   "source": [
    "### 9. Find the top 25 movies according to average ratings such that each movie has number of ratings more than 100 - 10 marks\n",
    "\n",
    "Hint : \n",
    "\n",
    "1. First find the movies that have more than 100 ratings(use merge, groupby and count). Extract the movie id in a list.\n",
    "2. Find the average rating of all the movies and sort them in the descending order. You will have to use the .merge() function to reach to a data set through which you can get the ids and the average rating.\n",
    "3. Use isin(list obtained from 1) to filter out the movies which have more than 100 ratings.\n",
    "\n",
    "Note: This question will need you to research about groupby and apply your findings. You can find more on groupby on https://realpython.com/pandas-groupby/."
   ]
  },
  {
   "cell_type": "code",
   "execution_count": 37,
   "metadata": {},
   "outputs": [
    {
     "data": {
      "text/html": [
       "<div>\n",
       "<style scoped>\n",
       "    .dataframe tbody tr th:only-of-type {\n",
       "        vertical-align: middle;\n",
       "    }\n",
       "\n",
       "    .dataframe tbody tr th {\n",
       "        vertical-align: top;\n",
       "    }\n",
       "\n",
       "    .dataframe thead th {\n",
       "        text-align: right;\n",
       "    }\n",
       "</style>\n",
       "<table border=\"1\" class=\"dataframe\">\n",
       "  <thead>\n",
       "    <tr style=\"text-align: right;\">\n",
       "      <th></th>\n",
       "      <th>movie id</th>\n",
       "      <th>ratingcount</th>\n",
       "    </tr>\n",
       "  </thead>\n",
       "  <tbody>\n",
       "    <tr>\n",
       "      <th>0</th>\n",
       "      <td>1</td>\n",
       "      <td>452</td>\n",
       "    </tr>\n",
       "    <tr>\n",
       "      <th>1</th>\n",
       "      <td>2</td>\n",
       "      <td>131</td>\n",
       "    </tr>\n",
       "    <tr>\n",
       "      <th>2</th>\n",
       "      <td>3</td>\n",
       "      <td>90</td>\n",
       "    </tr>\n",
       "    <tr>\n",
       "      <th>3</th>\n",
       "      <td>4</td>\n",
       "      <td>209</td>\n",
       "    </tr>\n",
       "    <tr>\n",
       "      <th>4</th>\n",
       "      <td>5</td>\n",
       "      <td>86</td>\n",
       "    </tr>\n",
       "    <tr>\n",
       "      <th>...</th>\n",
       "      <td>...</td>\n",
       "      <td>...</td>\n",
       "    </tr>\n",
       "    <tr>\n",
       "      <th>1677</th>\n",
       "      <td>1678</td>\n",
       "      <td>1</td>\n",
       "    </tr>\n",
       "    <tr>\n",
       "      <th>1678</th>\n",
       "      <td>1679</td>\n",
       "      <td>1</td>\n",
       "    </tr>\n",
       "    <tr>\n",
       "      <th>1679</th>\n",
       "      <td>1680</td>\n",
       "      <td>1</td>\n",
       "    </tr>\n",
       "    <tr>\n",
       "      <th>1680</th>\n",
       "      <td>1681</td>\n",
       "      <td>1</td>\n",
       "    </tr>\n",
       "    <tr>\n",
       "      <th>1681</th>\n",
       "      <td>1682</td>\n",
       "      <td>1</td>\n",
       "    </tr>\n",
       "  </tbody>\n",
       "</table>\n",
       "<p>1682 rows × 2 columns</p>\n",
       "</div>"
      ],
      "text/plain": [
       "      movie id  ratingcount\n",
       "0            1          452\n",
       "1            2          131\n",
       "2            3           90\n",
       "3            4          209\n",
       "4            5           86\n",
       "...        ...          ...\n",
       "1677      1678            1\n",
       "1678      1679            1\n",
       "1679      1680            1\n",
       "1680      1681            1\n",
       "1681      1682            1\n",
       "\n",
       "[1682 rows x 2 columns]"
      ]
     },
     "execution_count": 37,
     "metadata": {},
     "output_type": "execute_result"
    }
   ],
   "source": [
    "#create a data frame with movie id and rating from dfData\n",
    "dfMovieRatingCount = dfData.groupby('movie id')['rating'].count().to_frame('ratingcount').reset_index()\n",
    "dfMovieRatingCount"
   ]
  },
  {
   "cell_type": "code",
   "execution_count": 38,
   "metadata": {},
   "outputs": [
    {
     "data": {
      "text/html": [
       "<div>\n",
       "<style scoped>\n",
       "    .dataframe tbody tr th:only-of-type {\n",
       "        vertical-align: middle;\n",
       "    }\n",
       "\n",
       "    .dataframe tbody tr th {\n",
       "        vertical-align: top;\n",
       "    }\n",
       "\n",
       "    .dataframe thead th {\n",
       "        text-align: right;\n",
       "    }\n",
       "</style>\n",
       "<table border=\"1\" class=\"dataframe\">\n",
       "  <thead>\n",
       "    <tr style=\"text-align: right;\">\n",
       "      <th></th>\n",
       "      <th>user id</th>\n",
       "      <th>rating</th>\n",
       "      <th>timestamp</th>\n",
       "    </tr>\n",
       "    <tr>\n",
       "      <th>movie id</th>\n",
       "      <th></th>\n",
       "      <th></th>\n",
       "      <th></th>\n",
       "    </tr>\n",
       "  </thead>\n",
       "  <tbody>\n",
       "    <tr>\n",
       "      <th>1</th>\n",
       "      <td>477.011062</td>\n",
       "      <td>3.878319</td>\n",
       "      <td>8.828054e+08</td>\n",
       "    </tr>\n",
       "    <tr>\n",
       "      <th>2</th>\n",
       "      <td>492.007634</td>\n",
       "      <td>3.206107</td>\n",
       "      <td>8.834174e+08</td>\n",
       "    </tr>\n",
       "    <tr>\n",
       "      <th>3</th>\n",
       "      <td>459.133333</td>\n",
       "      <td>3.033333</td>\n",
       "      <td>8.822269e+08</td>\n",
       "    </tr>\n",
       "    <tr>\n",
       "      <th>4</th>\n",
       "      <td>469.497608</td>\n",
       "      <td>3.550239</td>\n",
       "      <td>8.827175e+08</td>\n",
       "    </tr>\n",
       "    <tr>\n",
       "      <th>5</th>\n",
       "      <td>439.372093</td>\n",
       "      <td>3.302326</td>\n",
       "      <td>8.825882e+08</td>\n",
       "    </tr>\n",
       "    <tr>\n",
       "      <th>...</th>\n",
       "      <td>...</td>\n",
       "      <td>...</td>\n",
       "      <td>...</td>\n",
       "    </tr>\n",
       "    <tr>\n",
       "      <th>1678</th>\n",
       "      <td>863.000000</td>\n",
       "      <td>1.000000</td>\n",
       "      <td>8.892896e+08</td>\n",
       "    </tr>\n",
       "    <tr>\n",
       "      <th>1679</th>\n",
       "      <td>863.000000</td>\n",
       "      <td>3.000000</td>\n",
       "      <td>8.892895e+08</td>\n",
       "    </tr>\n",
       "    <tr>\n",
       "      <th>1680</th>\n",
       "      <td>863.000000</td>\n",
       "      <td>2.000000</td>\n",
       "      <td>8.892896e+08</td>\n",
       "    </tr>\n",
       "    <tr>\n",
       "      <th>1681</th>\n",
       "      <td>896.000000</td>\n",
       "      <td>3.000000</td>\n",
       "      <td>8.871607e+08</td>\n",
       "    </tr>\n",
       "    <tr>\n",
       "      <th>1682</th>\n",
       "      <td>916.000000</td>\n",
       "      <td>3.000000</td>\n",
       "      <td>8.808458e+08</td>\n",
       "    </tr>\n",
       "  </tbody>\n",
       "</table>\n",
       "<p>1682 rows × 3 columns</p>\n",
       "</div>"
      ],
      "text/plain": [
       "             user id    rating     timestamp\n",
       "movie id                                    \n",
       "1         477.011062  3.878319  8.828054e+08\n",
       "2         492.007634  3.206107  8.834174e+08\n",
       "3         459.133333  3.033333  8.822269e+08\n",
       "4         469.497608  3.550239  8.827175e+08\n",
       "5         439.372093  3.302326  8.825882e+08\n",
       "...              ...       ...           ...\n",
       "1678      863.000000  1.000000  8.892896e+08\n",
       "1679      863.000000  3.000000  8.892895e+08\n",
       "1680      863.000000  2.000000  8.892896e+08\n",
       "1681      896.000000  3.000000  8.871607e+08\n",
       "1682      916.000000  3.000000  8.808458e+08\n",
       "\n",
       "[1682 rows x 3 columns]"
      ]
     },
     "execution_count": 38,
     "metadata": {},
     "output_type": "execute_result"
    }
   ],
   "source": [
    "#create average rating by movie id\n",
    "dfMovieRatingAvg = dfData.groupby('movie id').mean()\n",
    "dfMovieRatingAvg"
   ]
  },
  {
   "cell_type": "code",
   "execution_count": 39,
   "metadata": {},
   "outputs": [
    {
     "data": {
      "text/html": [
       "<div>\n",
       "<style scoped>\n",
       "    .dataframe tbody tr th:only-of-type {\n",
       "        vertical-align: middle;\n",
       "    }\n",
       "\n",
       "    .dataframe tbody tr th {\n",
       "        vertical-align: top;\n",
       "    }\n",
       "\n",
       "    .dataframe thead th {\n",
       "        text-align: right;\n",
       "    }\n",
       "</style>\n",
       "<table border=\"1\" class=\"dataframe\">\n",
       "  <thead>\n",
       "    <tr style=\"text-align: right;\">\n",
       "      <th></th>\n",
       "      <th>movie id</th>\n",
       "      <th>movie title</th>\n",
       "    </tr>\n",
       "  </thead>\n",
       "  <tbody>\n",
       "    <tr>\n",
       "      <th>0</th>\n",
       "      <td>1</td>\n",
       "      <td>Toy Story</td>\n",
       "    </tr>\n",
       "    <tr>\n",
       "      <th>1</th>\n",
       "      <td>2</td>\n",
       "      <td>GoldenEye</td>\n",
       "    </tr>\n",
       "    <tr>\n",
       "      <th>2</th>\n",
       "      <td>3</td>\n",
       "      <td>Four Rooms</td>\n",
       "    </tr>\n",
       "    <tr>\n",
       "      <th>3</th>\n",
       "      <td>4</td>\n",
       "      <td>Get Shorty</td>\n",
       "    </tr>\n",
       "    <tr>\n",
       "      <th>4</th>\n",
       "      <td>5</td>\n",
       "      <td>Copycat</td>\n",
       "    </tr>\n",
       "    <tr>\n",
       "      <th>...</th>\n",
       "      <td>...</td>\n",
       "      <td>...</td>\n",
       "    </tr>\n",
       "    <tr>\n",
       "      <th>1675</th>\n",
       "      <td>1678</td>\n",
       "      <td>Mat' i syn</td>\n",
       "    </tr>\n",
       "    <tr>\n",
       "      <th>1676</th>\n",
       "      <td>1679</td>\n",
       "      <td>B. Monkey</td>\n",
       "    </tr>\n",
       "    <tr>\n",
       "      <th>1677</th>\n",
       "      <td>1680</td>\n",
       "      <td>Sliding Doors</td>\n",
       "    </tr>\n",
       "    <tr>\n",
       "      <th>1678</th>\n",
       "      <td>1681</td>\n",
       "      <td>You So Crazy</td>\n",
       "    </tr>\n",
       "    <tr>\n",
       "      <th>1679</th>\n",
       "      <td>1682</td>\n",
       "      <td>Scream of Stone (Schrei aus Stein)</td>\n",
       "    </tr>\n",
       "  </tbody>\n",
       "</table>\n",
       "<p>1680 rows × 2 columns</p>\n",
       "</div>"
      ],
      "text/plain": [
       "      movie id                          movie title\n",
       "0            1                           Toy Story \n",
       "1            2                           GoldenEye \n",
       "2            3                          Four Rooms \n",
       "3            4                          Get Shorty \n",
       "4            5                             Copycat \n",
       "...        ...                                  ...\n",
       "1675      1678                          Mat' i syn \n",
       "1676      1679                           B. Monkey \n",
       "1677      1680                       Sliding Doors \n",
       "1678      1681                        You So Crazy \n",
       "1679      1682  Scream of Stone (Schrei aus Stein) \n",
       "\n",
       "[1680 rows x 2 columns]"
      ]
     },
     "execution_count": 39,
     "metadata": {},
     "output_type": "execute_result"
    }
   ],
   "source": [
    "#make a copy of movie id and movie title to separate data frame to use in merge\n",
    "dfMovieIDTitle = dfItem[['movie id','movie title']]\n",
    "dfMovieIDTitle"
   ]
  },
  {
   "cell_type": "code",
   "execution_count": 40,
   "metadata": {},
   "outputs": [
    {
     "data": {
      "text/html": [
       "<div>\n",
       "<style scoped>\n",
       "    .dataframe tbody tr th:only-of-type {\n",
       "        vertical-align: middle;\n",
       "    }\n",
       "\n",
       "    .dataframe tbody tr th {\n",
       "        vertical-align: top;\n",
       "    }\n",
       "\n",
       "    .dataframe thead th {\n",
       "        text-align: right;\n",
       "    }\n",
       "</style>\n",
       "<table border=\"1\" class=\"dataframe\">\n",
       "  <thead>\n",
       "    <tr style=\"text-align: right;\">\n",
       "      <th></th>\n",
       "      <th>movie id</th>\n",
       "      <th>ratingcount</th>\n",
       "      <th>rating</th>\n",
       "      <th>movie title</th>\n",
       "    </tr>\n",
       "  </thead>\n",
       "  <tbody>\n",
       "    <tr>\n",
       "      <th>0</th>\n",
       "      <td>1</td>\n",
       "      <td>452</td>\n",
       "      <td>3.878319</td>\n",
       "      <td>Toy Story</td>\n",
       "    </tr>\n",
       "    <tr>\n",
       "      <th>1</th>\n",
       "      <td>2</td>\n",
       "      <td>131</td>\n",
       "      <td>3.206107</td>\n",
       "      <td>GoldenEye</td>\n",
       "    </tr>\n",
       "    <tr>\n",
       "      <th>2</th>\n",
       "      <td>3</td>\n",
       "      <td>90</td>\n",
       "      <td>3.033333</td>\n",
       "      <td>Four Rooms</td>\n",
       "    </tr>\n",
       "    <tr>\n",
       "      <th>3</th>\n",
       "      <td>4</td>\n",
       "      <td>209</td>\n",
       "      <td>3.550239</td>\n",
       "      <td>Get Shorty</td>\n",
       "    </tr>\n",
       "    <tr>\n",
       "      <th>4</th>\n",
       "      <td>5</td>\n",
       "      <td>86</td>\n",
       "      <td>3.302326</td>\n",
       "      <td>Copycat</td>\n",
       "    </tr>\n",
       "    <tr>\n",
       "      <th>...</th>\n",
       "      <td>...</td>\n",
       "      <td>...</td>\n",
       "      <td>...</td>\n",
       "      <td>...</td>\n",
       "    </tr>\n",
       "    <tr>\n",
       "      <th>1675</th>\n",
       "      <td>1678</td>\n",
       "      <td>1</td>\n",
       "      <td>1.000000</td>\n",
       "      <td>Mat' i syn</td>\n",
       "    </tr>\n",
       "    <tr>\n",
       "      <th>1676</th>\n",
       "      <td>1679</td>\n",
       "      <td>1</td>\n",
       "      <td>3.000000</td>\n",
       "      <td>B. Monkey</td>\n",
       "    </tr>\n",
       "    <tr>\n",
       "      <th>1677</th>\n",
       "      <td>1680</td>\n",
       "      <td>1</td>\n",
       "      <td>2.000000</td>\n",
       "      <td>Sliding Doors</td>\n",
       "    </tr>\n",
       "    <tr>\n",
       "      <th>1678</th>\n",
       "      <td>1681</td>\n",
       "      <td>1</td>\n",
       "      <td>3.000000</td>\n",
       "      <td>You So Crazy</td>\n",
       "    </tr>\n",
       "    <tr>\n",
       "      <th>1679</th>\n",
       "      <td>1682</td>\n",
       "      <td>1</td>\n",
       "      <td>3.000000</td>\n",
       "      <td>Scream of Stone (Schrei aus Stein)</td>\n",
       "    </tr>\n",
       "  </tbody>\n",
       "</table>\n",
       "<p>1680 rows × 4 columns</p>\n",
       "</div>"
      ],
      "text/plain": [
       "      movie id  ratingcount    rating                          movie title\n",
       "0            1          452  3.878319                           Toy Story \n",
       "1            2          131  3.206107                           GoldenEye \n",
       "2            3           90  3.033333                          Four Rooms \n",
       "3            4          209  3.550239                          Get Shorty \n",
       "4            5           86  3.302326                             Copycat \n",
       "...        ...          ...       ...                                  ...\n",
       "1675      1678            1  1.000000                          Mat' i syn \n",
       "1676      1679            1  3.000000                           B. Monkey \n",
       "1677      1680            1  2.000000                       Sliding Doors \n",
       "1678      1681            1  3.000000                        You So Crazy \n",
       "1679      1682            1  3.000000  Scream of Stone (Schrei aus Stein) \n",
       "\n",
       "[1680 rows x 4 columns]"
      ]
     },
     "execution_count": 40,
     "metadata": {},
     "output_type": "execute_result"
    }
   ],
   "source": [
    "#create a data frame with merged movie rating count and movie rating average on column movie id\n",
    "dfFinal1 = pd.merge(dfMovieRatingCount,dfMovieRatingAvg, on='movie id', how='inner')\n",
    "#create a final data frame by merging the dfFinal1 data frame with dfMovieIDTitle\n",
    "dfFinal = pd.merge(dfFinal1,dfMovieIDTitle, on='movie id', how='inner')\n",
    "#delete the non-essential columns for clean data frame\n",
    "dfFinal.drop(columns=['user id'], axis=1, inplace=True)\n",
    "dfFinal.drop(columns=['timestamp'], axis=1, inplace=True)\n",
    "dfFinal"
   ]
  },
  {
   "cell_type": "code",
   "execution_count": 41,
   "metadata": {},
   "outputs": [
    {
     "name": "stdout",
     "output_type": "stream",
     "text": [
      "Top 25 movies according to average ratings such that each movie has number of ratings more than 100\n"
     ]
    },
    {
     "data": {
      "text/html": [
       "<div>\n",
       "<style scoped>\n",
       "    .dataframe tbody tr th:only-of-type {\n",
       "        vertical-align: middle;\n",
       "    }\n",
       "\n",
       "    .dataframe tbody tr th {\n",
       "        vertical-align: top;\n",
       "    }\n",
       "\n",
       "    .dataframe thead th {\n",
       "        text-align: right;\n",
       "    }\n",
       "</style>\n",
       "<table border=\"1\" class=\"dataframe\">\n",
       "  <thead>\n",
       "    <tr style=\"text-align: right;\">\n",
       "      <th></th>\n",
       "      <th>movie id</th>\n",
       "      <th>ratingcount</th>\n",
       "      <th>rating</th>\n",
       "      <th>movie title</th>\n",
       "    </tr>\n",
       "  </thead>\n",
       "  <tbody>\n",
       "    <tr>\n",
       "      <th>406</th>\n",
       "      <td>408</td>\n",
       "      <td>112</td>\n",
       "      <td>4.491071</td>\n",
       "      <td>Close Shave, A</td>\n",
       "    </tr>\n",
       "    <tr>\n",
       "      <th>316</th>\n",
       "      <td>318</td>\n",
       "      <td>298</td>\n",
       "      <td>4.466443</td>\n",
       "      <td>Schindler's List</td>\n",
       "    </tr>\n",
       "    <tr>\n",
       "      <th>168</th>\n",
       "      <td>169</td>\n",
       "      <td>118</td>\n",
       "      <td>4.466102</td>\n",
       "      <td>Wrong Trousers, The</td>\n",
       "    </tr>\n",
       "    <tr>\n",
       "      <th>481</th>\n",
       "      <td>483</td>\n",
       "      <td>243</td>\n",
       "      <td>4.456790</td>\n",
       "      <td>Casablanca</td>\n",
       "    </tr>\n",
       "    <tr>\n",
       "      <th>63</th>\n",
       "      <td>64</td>\n",
       "      <td>283</td>\n",
       "      <td>4.445230</td>\n",
       "      <td>Shawshank Redemption, The</td>\n",
       "    </tr>\n",
       "    <tr>\n",
       "      <th>601</th>\n",
       "      <td>603</td>\n",
       "      <td>209</td>\n",
       "      <td>4.387560</td>\n",
       "      <td>Rear Window</td>\n",
       "    </tr>\n",
       "    <tr>\n",
       "      <th>11</th>\n",
       "      <td>12</td>\n",
       "      <td>267</td>\n",
       "      <td>4.385768</td>\n",
       "      <td>Usual Suspects, The</td>\n",
       "    </tr>\n",
       "    <tr>\n",
       "      <th>49</th>\n",
       "      <td>50</td>\n",
       "      <td>583</td>\n",
       "      <td>4.358491</td>\n",
       "      <td>Star Wars</td>\n",
       "    </tr>\n",
       "    <tr>\n",
       "      <th>177</th>\n",
       "      <td>178</td>\n",
       "      <td>125</td>\n",
       "      <td>4.344000</td>\n",
       "      <td>12 Angry Men</td>\n",
       "    </tr>\n",
       "    <tr>\n",
       "      <th>133</th>\n",
       "      <td>134</td>\n",
       "      <td>198</td>\n",
       "      <td>4.292929</td>\n",
       "      <td>Citizen Kane</td>\n",
       "    </tr>\n",
       "    <tr>\n",
       "      <th>425</th>\n",
       "      <td>427</td>\n",
       "      <td>219</td>\n",
       "      <td>4.292237</td>\n",
       "      <td>To Kill a Mockingbird</td>\n",
       "    </tr>\n",
       "    <tr>\n",
       "      <th>355</th>\n",
       "      <td>357</td>\n",
       "      <td>264</td>\n",
       "      <td>4.291667</td>\n",
       "      <td>One Flew Over the Cuckoo's Nest</td>\n",
       "    </tr>\n",
       "    <tr>\n",
       "      <th>97</th>\n",
       "      <td>98</td>\n",
       "      <td>390</td>\n",
       "      <td>4.289744</td>\n",
       "      <td>Silence of the Lambs, The</td>\n",
       "    </tr>\n",
       "    <tr>\n",
       "      <th>478</th>\n",
       "      <td>480</td>\n",
       "      <td>179</td>\n",
       "      <td>4.284916</td>\n",
       "      <td>North by Northwest</td>\n",
       "    </tr>\n",
       "    <tr>\n",
       "      <th>126</th>\n",
       "      <td>127</td>\n",
       "      <td>413</td>\n",
       "      <td>4.283293</td>\n",
       "      <td>Godfather, The</td>\n",
       "    </tr>\n",
       "    <tr>\n",
       "      <th>283</th>\n",
       "      <td>285</td>\n",
       "      <td>162</td>\n",
       "      <td>4.265432</td>\n",
       "      <td>Secrets &amp; Lies</td>\n",
       "    </tr>\n",
       "    <tr>\n",
       "      <th>270</th>\n",
       "      <td>272</td>\n",
       "      <td>198</td>\n",
       "      <td>4.262626</td>\n",
       "      <td>Good Will Hunting</td>\n",
       "    </tr>\n",
       "    <tr>\n",
       "      <th>655</th>\n",
       "      <td>657</td>\n",
       "      <td>131</td>\n",
       "      <td>4.259542</td>\n",
       "      <td>Manchurian Candidate, The</td>\n",
       "    </tr>\n",
       "    <tr>\n",
       "      <th>472</th>\n",
       "      <td>474</td>\n",
       "      <td>194</td>\n",
       "      <td>4.252577</td>\n",
       "      <td>Dr. Strangelove or: How I Learned to Stop Worr...</td>\n",
       "    </tr>\n",
       "    <tr>\n",
       "      <th>173</th>\n",
       "      <td>174</td>\n",
       "      <td>420</td>\n",
       "      <td>4.252381</td>\n",
       "      <td>Raiders of the Lost Ark</td>\n",
       "    </tr>\n",
       "    <tr>\n",
       "      <th>477</th>\n",
       "      <td>479</td>\n",
       "      <td>179</td>\n",
       "      <td>4.251397</td>\n",
       "      <td>Vertigo</td>\n",
       "    </tr>\n",
       "    <tr>\n",
       "      <th>311</th>\n",
       "      <td>313</td>\n",
       "      <td>350</td>\n",
       "      <td>4.245714</td>\n",
       "      <td>Titanic</td>\n",
       "    </tr>\n",
       "    <tr>\n",
       "      <th>509</th>\n",
       "      <td>511</td>\n",
       "      <td>173</td>\n",
       "      <td>4.231214</td>\n",
       "      <td>Lawrence of Arabia</td>\n",
       "    </tr>\n",
       "    <tr>\n",
       "      <th>482</th>\n",
       "      <td>484</td>\n",
       "      <td>138</td>\n",
       "      <td>4.210145</td>\n",
       "      <td>Maltese Falcon, The</td>\n",
       "    </tr>\n",
       "    <tr>\n",
       "      <th>171</th>\n",
       "      <td>172</td>\n",
       "      <td>367</td>\n",
       "      <td>4.204360</td>\n",
       "      <td>Empire Strikes Back, The</td>\n",
       "    </tr>\n",
       "  </tbody>\n",
       "</table>\n",
       "</div>"
      ],
      "text/plain": [
       "     movie id  ratingcount    rating  \\\n",
       "406       408          112  4.491071   \n",
       "316       318          298  4.466443   \n",
       "168       169          118  4.466102   \n",
       "481       483          243  4.456790   \n",
       "63         64          283  4.445230   \n",
       "601       603          209  4.387560   \n",
       "11         12          267  4.385768   \n",
       "49         50          583  4.358491   \n",
       "177       178          125  4.344000   \n",
       "133       134          198  4.292929   \n",
       "425       427          219  4.292237   \n",
       "355       357          264  4.291667   \n",
       "97         98          390  4.289744   \n",
       "478       480          179  4.284916   \n",
       "126       127          413  4.283293   \n",
       "283       285          162  4.265432   \n",
       "270       272          198  4.262626   \n",
       "655       657          131  4.259542   \n",
       "472       474          194  4.252577   \n",
       "173       174          420  4.252381   \n",
       "477       479          179  4.251397   \n",
       "311       313          350  4.245714   \n",
       "509       511          173  4.231214   \n",
       "482       484          138  4.210145   \n",
       "171       172          367  4.204360   \n",
       "\n",
       "                                           movie title  \n",
       "406                                    Close Shave, A   \n",
       "316                                  Schindler's List   \n",
       "168                               Wrong Trousers, The   \n",
       "481                                        Casablanca   \n",
       "63                          Shawshank Redemption, The   \n",
       "601                                       Rear Window   \n",
       "11                                Usual Suspects, The   \n",
       "49                                          Star Wars   \n",
       "177                                      12 Angry Men   \n",
       "133                                      Citizen Kane   \n",
       "425                             To Kill a Mockingbird   \n",
       "355                   One Flew Over the Cuckoo's Nest   \n",
       "97                          Silence of the Lambs, The   \n",
       "478                                North by Northwest   \n",
       "126                                    Godfather, The   \n",
       "283                                    Secrets & Lies   \n",
       "270                                 Good Will Hunting   \n",
       "655                         Manchurian Candidate, The   \n",
       "472  Dr. Strangelove or: How I Learned to Stop Worr...  \n",
       "173                           Raiders of the Lost Ark   \n",
       "477                                           Vertigo   \n",
       "311                                           Titanic   \n",
       "509                                Lawrence of Arabia   \n",
       "482                               Maltese Falcon, The   \n",
       "171                          Empire Strikes Back, The   "
      ]
     },
     "execution_count": 41,
     "metadata": {},
     "output_type": "execute_result"
    }
   ],
   "source": [
    "#use the dfFinal data frame to get \n",
    "#\"top 25 movies according to average ratings such that each movie has number of ratings more than 100\"\n",
    "print(\"Top 25 movies according to average ratings such that each movie has number of ratings more than 100\")\n",
    "dfFinal[dfFinal['ratingcount'] > 100].nlargest(25,['rating'])"
   ]
  },
  {
   "cell_type": "markdown",
   "metadata": {},
   "source": [
    "### 10. See gender distribution across different genres check for the validity of the below statements - 10 marks\n",
    "\n",
    "* Men watch more drama than women\n",
    "* Women watch more Sci-Fi than men\n",
    "* Men watch more Romance than women\n"
   ]
  },
  {
   "cell_type": "markdown",
   "metadata": {},
   "source": [
    "1. There is no need to conduct statistical tests around this. Just compare the percentages and comment on the validity of the above statements.\n",
    "\n",
    "2. you might want ot use the .sum(), .div() function here.\n",
    "3. Use number of ratings to validate the numbers. For example, if out of 4000 ratings received by women, 3000 are for drama, we will assume that 75% of the women watch drama."
   ]
  },
  {
   "cell_type": "markdown",
   "metadata": {},
   "source": [
    "#### Conclusion:\n",
    "\n"
   ]
  },
  {
   "cell_type": "code",
   "execution_count": 42,
   "metadata": {},
   "outputs": [],
   "source": [
    "#write the conclusions here\n",
    "\n",
    "#==========================================\n",
    "#FINAL CONCLUSION BASED ON EDA\n",
    "#==========================================\n",
    "#Based on the below code execution \n",
    "\n",
    "    # 1.Statement to be Validated: Men watch more drama than women\n",
    "    # CONCLUSION: The above statement is CORRECT BASED ON BELOW RESULTS - Men watch more drama than women\n",
    "        #Percentage of Men Watching Drama:72.40756987091113\n",
    "        #Percentage of Women Watching Drama:27.592430129088857\n",
    "    \n",
    "    # 2.Statement to be Validated: Women watch more Sci-Fi than men\n",
    "    # CONCLUSION: The above statement is INCORRECT BASED ON BELOW RESULTS - Men watch more Sci-Fi than Women.\n",
    "        #Percentage of Men Watching SciFi:79.34799685781618\n",
    "        #Percentage of Women Watching SciFi:20.652003142183815\n",
    "\n",
    "    # 3.Statement to be Validated: Men watch more Romance than women\n",
    "    # CONCLUSION: The above statement is CORRECT BASED ON BELOW RESULTS - Men watch more Romance than women\n",
    "        #Percentage of Men Watching Romance:69.89877190277993\n",
    "        #Percentage of Women Watching Romance:30.10122809722008"
   ]
  },
  {
   "cell_type": "code",
   "execution_count": 43,
   "metadata": {},
   "outputs": [],
   "source": [
    "#first get the movie id with Drama, Sci-Fi and Romance\n",
    "dfDrama = dfItem[dfItem['Drama'] == 1]\n",
    "dfSciFi = dfItem[dfItem['Sci-Fi'] == 1]\n",
    "dfRomance = dfItem[dfItem['Romance'] == 1]"
   ]
  },
  {
   "cell_type": "code",
   "execution_count": 44,
   "metadata": {},
   "outputs": [],
   "source": [
    "#first merge the user and the rating data sets to get complete details\n",
    "dfUserMovie = pd.merge(dfUser,dfData, on='user id', how='inner')\n",
    "#create a result set for movie ratings provided by Men\n",
    "dfMenMovies = dfUserMovie[dfUserMovie['gender'] == 'M']\n",
    "#create a result set for movie ratings provided by Women\n",
    "dfWomenMovies = dfUserMovie[dfUserMovie['gender'] == 'F']"
   ]
  },
  {
   "cell_type": "code",
   "execution_count": 45,
   "metadata": {},
   "outputs": [
    {
     "name": "stdout",
     "output_type": "stream",
     "text": [
      "Percentage of Men Watching Drama:72.40756987091113\n",
      "Percentage of Women Watching Drama:27.592430129088857\n"
     ]
    }
   ],
   "source": [
    "#get the count of drama movies rated by men\n",
    "dfMenDrama = pd.merge(dfMenMovies,dfDrama, on='movie id', how='inner')\n",
    "#get the count of drama movies rated by women\n",
    "dfWomenDrama = pd.merge(dfWomenMovies,dfDrama, on='movie id', how='inner')\n",
    "#calculate the percentage of drama rated by men vs women\n",
    "totalDramaWatched = dfMenDrama.shape[0] + dfWomenDrama.shape[0]\n",
    "percentMenDrama = (dfMenDrama.shape[0]/totalDramaWatched) * 100\n",
    "percentWomenDrama = (dfWomenDrama.shape[0]/totalDramaWatched) * 100\n",
    "print(\"Percentage of Men Watching Drama:\" + str(percentMenDrama))\n",
    "print(\"Percentage of Women Watching Drama:\" + str(percentWomenDrama))\n"
   ]
  },
  {
   "cell_type": "code",
   "execution_count": 46,
   "metadata": {},
   "outputs": [
    {
     "name": "stdout",
     "output_type": "stream",
     "text": [
      "Percentage of Men Watching SciFi:79.34799685781618\n",
      "Percentage of Women Watching SciFi:20.652003142183815\n"
     ]
    }
   ],
   "source": [
    "#get the count of sci-fi movies rated by men\n",
    "dfMenSciFi = pd.merge(dfMenMovies,dfSciFi, on='movie id', how='inner')\n",
    "#get the count of sci-fi movies rated by women\n",
    "dfWomenSciFi = pd.merge(dfWomenMovies,dfSciFi, on='movie id', how='inner')\n",
    "#calculate the percentage of sci-fi rated by men vs women\n",
    "totalSciFiWatched = dfMenSciFi.shape[0] + dfWomenSciFi.shape[0]\n",
    "percentMenSciFi = (dfMenSciFi.shape[0]/totalSciFiWatched) * 100\n",
    "percentWomenSciFi = (dfWomenSciFi.shape[0]/totalSciFiWatched) * 100\n",
    "print(\"Percentage of Men Watching SciFi:\" + str(percentMenSciFi))\n",
    "print(\"Percentage of Women Watching SciFi:\" + str(percentWomenSciFi))"
   ]
  },
  {
   "cell_type": "code",
   "execution_count": 47,
   "metadata": {},
   "outputs": [
    {
     "name": "stdout",
     "output_type": "stream",
     "text": [
      "Percentage of Men Watching Romance:69.89877190277993\n",
      "Percentage of Women Watching Romance:30.10122809722008\n"
     ]
    }
   ],
   "source": [
    "#get the count of romance movies rated by men\n",
    "dfMenRomance = pd.merge(dfMenMovies,dfRomance, on='movie id', how='inner')\n",
    "#get the count of romance movies rated by women\n",
    "dfWomenRomance = pd.merge(dfWomenMovies,dfRomance, on='movie id', how='inner')\n",
    "#calculate the percentage of romance rated by men vs women\n",
    "totalRomanceWatched = dfMenRomance.shape[0] + dfWomenRomance.shape[0]\n",
    "percentMenRomance = (dfMenRomance.shape[0]/totalRomanceWatched) * 100\n",
    "percentWomenRomance = (dfWomenRomance.shape[0]/totalRomanceWatched) * 100\n",
    "print(\"Percentage of Men Watching Romance:\" + str(percentMenRomance))\n",
    "print(\"Percentage of Women Watching Romance:\" + str(percentWomenRomance))"
   ]
  }
 ],
 "metadata": {
  "kernelspec": {
   "display_name": "Python 3",
   "language": "python",
   "name": "python3"
  },
  "language_info": {
   "codemirror_mode": {
    "name": "ipython",
    "version": 3
   },
   "file_extension": ".py",
   "mimetype": "text/x-python",
   "name": "python",
   "nbconvert_exporter": "python",
   "pygments_lexer": "ipython3",
   "version": "3.7.6"
  }
 },
 "nbformat": 4,
 "nbformat_minor": 2
}
